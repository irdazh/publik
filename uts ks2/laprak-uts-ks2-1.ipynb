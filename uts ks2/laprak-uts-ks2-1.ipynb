{
 "cells": [
  {
   "cell_type": "markdown",
   "id": "8eb67c1a",
   "metadata": {
    "papermill": {
     "duration": 0.005088,
     "end_time": "2023-04-05T07:45:53.646301",
     "exception": false,
     "start_time": "2023-04-05T07:45:53.641213",
     "status": "completed"
    },
    "tags": []
   },
   "source": [
    "# Library"
   ]
  },
  {
   "cell_type": "code",
   "execution_count": 1,
   "id": "57505670",
   "metadata": {
    "execution": {
     "iopub.execute_input": "2023-04-05T07:45:53.657241Z",
     "iopub.status.busy": "2023-04-05T07:45:53.656768Z",
     "iopub.status.idle": "2023-04-05T07:45:54.960228Z",
     "shell.execute_reply": "2023-04-05T07:45:54.958486Z"
    },
    "papermill": {
     "duration": 1.31249,
     "end_time": "2023-04-05T07:45:54.963468",
     "exception": false,
     "start_time": "2023-04-05T07:45:53.650978",
     "status": "completed"
    },
    "tags": []
   },
   "outputs": [],
   "source": [
    "# Library Scrapping \n",
    "# pip install requests\n",
    "# pip install beautifulsoup4\n",
    "import requests\n",
    "from bs4 import BeautifulSoup\n",
    "import pandas as pd\n",
    "import numpy as np\n",
    "import matplotlib as plt\n",
    "import seaborn as sns"
   ]
  },
  {
   "cell_type": "markdown",
   "id": "ab1aefb7",
   "metadata": {
    "papermill": {
     "duration": 0.004097,
     "end_time": "2023-04-05T07:45:54.971929",
     "exception": false,
     "start_time": "2023-04-05T07:45:54.967832",
     "status": "completed"
    },
    "tags": []
   },
   "source": [
    "# Get Content HTML"
   ]
  },
  {
   "cell_type": "code",
   "execution_count": 2,
   "id": "4a9380e2",
   "metadata": {
    "execution": {
     "iopub.execute_input": "2023-04-05T07:45:54.981981Z",
     "iopub.status.busy": "2023-04-05T07:45:54.981494Z",
     "iopub.status.idle": "2023-04-05T07:45:55.189721Z",
     "shell.execute_reply": "2023-04-05T07:45:55.188093Z"
    },
    "papermill": {
     "duration": 0.218011,
     "end_time": "2023-04-05T07:45:55.194061",
     "exception": false,
     "start_time": "2023-04-05T07:45:54.976050",
     "status": "completed"
    },
    "tags": []
   },
   "outputs": [
    {
     "data": {
      "text/plain": [
       "200"
      ]
     },
     "execution_count": 2,
     "metadata": {},
     "output_type": "execute_result"
    }
   ],
   "source": [
    "# First of all we need to check the capability of the website (\"https://www.imdb.com/search/title/?groups=top_100&sort=user_rating,desc\") to be scrapped\n",
    "Link  = 'https://www.entoin.com/entertainment/best-anime-to-watch'\n",
    "page = requests.get(Link)\n",
    "\n",
    "# Check the status of the website\n",
    "# Check Status Code (check at : https://developer.mozilla.org/en-US/docs/Web/HTTP/Status)\n",
    "page.status_code"
   ]
  },
  {
   "cell_type": "code",
   "execution_count": 3,
   "id": "c9823b11",
   "metadata": {
    "execution": {
     "iopub.execute_input": "2023-04-05T07:45:55.206003Z",
     "iopub.status.busy": "2023-04-05T07:45:55.205556Z",
     "iopub.status.idle": "2023-04-05T07:45:55.211659Z",
     "shell.execute_reply": "2023-04-05T07:45:55.209866Z"
    },
    "papermill": {
     "duration": 0.015429,
     "end_time": "2023-04-05T07:45:55.214676",
     "exception": false,
     "start_time": "2023-04-05T07:45:55.199247",
     "status": "completed"
    },
    "tags": []
   },
   "outputs": [],
   "source": [
    "# Check Content"
   ]
  },
  {
   "cell_type": "markdown",
   "id": "b69a3e30",
   "metadata": {
    "papermill": {
     "duration": 0.004234,
     "end_time": "2023-04-05T07:45:55.223258",
     "exception": false,
     "start_time": "2023-04-05T07:45:55.219024",
     "status": "completed"
    },
    "tags": []
   },
   "source": [
    "# Parsing HTML"
   ]
  },
  {
   "cell_type": "code",
   "execution_count": 4,
   "id": "b5065c06",
   "metadata": {
    "execution": {
     "iopub.execute_input": "2023-04-05T07:45:55.233727Z",
     "iopub.status.busy": "2023-04-05T07:45:55.233271Z",
     "iopub.status.idle": "2023-04-05T07:45:55.558932Z",
     "shell.execute_reply": "2023-04-05T07:45:55.557828Z"
    },
    "papermill": {
     "duration": 0.334872,
     "end_time": "2023-04-05T07:45:55.562466",
     "exception": false,
     "start_time": "2023-04-05T07:45:55.227594",
     "status": "completed"
    },
    "tags": []
   },
   "outputs": [
    {
     "data": {
      "text/plain": [
       "[]"
      ]
     },
     "execution_count": 4,
     "metadata": {},
     "output_type": "execute_result"
    }
   ],
   "source": [
    "#Start Parsing using \"HTML-5\" parser\n",
    "soup = BeautifulSoup(page.content, \"html.parser\")\n",
    "soup.head(0)\n"
   ]
  },
  {
   "cell_type": "markdown",
   "id": "1402ac6d",
   "metadata": {
    "papermill": {
     "duration": 0.00399,
     "end_time": "2023-04-05T07:45:55.570980",
     "exception": false,
     "start_time": "2023-04-05T07:45:55.566990",
     "status": "completed"
    },
    "tags": []
   },
   "source": [
    "# Inspect Element form Web and extract the content"
   ]
  },
  {
   "cell_type": "code",
   "execution_count": 5,
   "id": "0a7c737b",
   "metadata": {
    "execution": {
     "iopub.execute_input": "2023-04-05T07:45:55.581478Z",
     "iopub.status.busy": "2023-04-05T07:45:55.581012Z",
     "iopub.status.idle": "2023-04-05T07:45:55.637931Z",
     "shell.execute_reply": "2023-04-05T07:45:55.635959Z"
    },
    "papermill": {
     "duration": 0.066603,
     "end_time": "2023-04-05T07:45:55.641839",
     "exception": false,
     "start_time": "2023-04-05T07:45:55.575236",
     "status": "completed"
    },
    "tags": []
   },
   "outputs": [],
   "source": [
    "# Search anime  in the website\n",
    "anime = soup.find_all('div', attrs={'class': 'sptable'})\n",
    "judul = soup.find_all(\"h2\")\n",
    "\n",
    "# Check the length of the anime\n",
    "len(anime)\n",
    "\n",
    "# get the title and rank, beda nama ternyata\n",
    "dataA = pd.DataFrame([item.text.strip().split(\"\\n\") for i,item in enumerate(judul)])[0].str.split(\".\", n=1, expand=True)\n",
    "dataA.columns = [\"Rank\", \"Title\"]"
   ]
  },
  {
   "cell_type": "code",
   "execution_count": null,
   "id": "26848484",
   "metadata": {
    "papermill": {
     "duration": 0.004198,
     "end_time": "2023-04-05T07:45:55.651624",
     "exception": false,
     "start_time": "2023-04-05T07:45:55.647426",
     "status": "completed"
    },
    "tags": []
   },
   "outputs": [],
   "source": []
  },
  {
   "cell_type": "code",
   "execution_count": 6,
   "id": "b986c07b",
   "metadata": {
    "execution": {
     "iopub.execute_input": "2023-04-05T07:45:55.662638Z",
     "iopub.status.busy": "2023-04-05T07:45:55.662163Z",
     "iopub.status.idle": "2023-04-05T07:45:55.701846Z",
     "shell.execute_reply": "2023-04-05T07:45:55.700500Z"
    },
    "papermill": {
     "duration": 0.048376,
     "end_time": "2023-04-05T07:45:55.704313",
     "exception": false,
     "start_time": "2023-04-05T07:45:55.655937",
     "status": "completed"
    },
    "tags": []
   },
   "outputs": [
    {
     "data": {
      "text/html": [
       "<div>\n",
       "<style scoped>\n",
       "    .dataframe tbody tr th:only-of-type {\n",
       "        vertical-align: middle;\n",
       "    }\n",
       "\n",
       "    .dataframe tbody tr th {\n",
       "        vertical-align: top;\n",
       "    }\n",
       "\n",
       "    .dataframe thead th {\n",
       "        text-align: right;\n",
       "    }\n",
       "</style>\n",
       "<table border=\"1\" class=\"dataframe\">\n",
       "  <thead>\n",
       "    <tr style=\"text-align: right;\">\n",
       "      <th></th>\n",
       "      <th>Title</th>\n",
       "      <th>Type</th>\n",
       "      <th>Studios</th>\n",
       "      <th>Premiered</th>\n",
       "      <th>Source</th>\n",
       "      <th>MAL Score</th>\n",
       "      <th>Duration</th>\n",
       "    </tr>\n",
       "  </thead>\n",
       "  <tbody>\n",
       "    <tr>\n",
       "      <th>0</th>\n",
       "      <td>Owari no Seraph</td>\n",
       "      <td>TV</td>\n",
       "      <td>Wit Studio</td>\n",
       "      <td>Apr 4, 2015 to Jun 20, 2015</td>\n",
       "      <td>Manga</td>\n",
       "      <td>7.491</td>\n",
       "      <td>23 min. per ep.</td>\n",
       "    </tr>\n",
       "    <tr>\n",
       "      <th>1</th>\n",
       "      <td>Lucky Star</td>\n",
       "      <td>TV</td>\n",
       "      <td>Kyoto Animation</td>\n",
       "      <td>Apr 8, 2007 to Sep 17, 2007</td>\n",
       "      <td>4-koma manga</td>\n",
       "      <td>7.751</td>\n",
       "      <td>24 min. per ep.</td>\n",
       "    </tr>\n",
       "    <tr>\n",
       "      <th>2</th>\n",
       "      <td>Cardcaptor Sakura</td>\n",
       "      <td>TV</td>\n",
       "      <td>Madhouse</td>\n",
       "      <td>Apr 7, 1998 to Mar 21, 2000</td>\n",
       "      <td>Manga</td>\n",
       "      <td>8.151</td>\n",
       "      <td>25 min. per ep.</td>\n",
       "    </tr>\n",
       "    <tr>\n",
       "      <th>3</th>\n",
       "      <td>Kobayashi-san Chi no Maid Dragon</td>\n",
       "      <td>TV</td>\n",
       "      <td>Kyoto Animation</td>\n",
       "      <td>Jan 12, 2017 to Apr 6, 2017</td>\n",
       "      <td>Manga</td>\n",
       "      <td>7.991</td>\n",
       "      <td>24 min. per ep.</td>\n",
       "    </tr>\n",
       "    <tr>\n",
       "      <th>4</th>\n",
       "      <td>Nanatsu no Taizai</td>\n",
       "      <td>TV</td>\n",
       "      <td>A-1 Pictures</td>\n",
       "      <td>Oct 5, 2014 to Mar 29, 2015</td>\n",
       "      <td>Manga</td>\n",
       "      <td>7.801</td>\n",
       "      <td>24 min. per ep.</td>\n",
       "    </tr>\n",
       "    <tr>\n",
       "      <th>...</th>\n",
       "      <td>...</td>\n",
       "      <td>...</td>\n",
       "      <td>...</td>\n",
       "      <td>...</td>\n",
       "      <td>...</td>\n",
       "      <td>...</td>\n",
       "      <td>...</td>\n",
       "    </tr>\n",
       "    <tr>\n",
       "      <th>84</th>\n",
       "      <td>Death Note</td>\n",
       "      <td>TV</td>\n",
       "      <td>Madhouse</td>\n",
       "      <td>Oct 4, 2006 to Jun 27, 2007</td>\n",
       "      <td>Manga</td>\n",
       "      <td>8.631</td>\n",
       "      <td>23 min. per ep.</td>\n",
       "    </tr>\n",
       "    <tr>\n",
       "      <th>85</th>\n",
       "      <td>Hunter x Hunter (2011)</td>\n",
       "      <td>TV</td>\n",
       "      <td>Madhouse</td>\n",
       "      <td>Oct 2, 2011 to Sep 24, 2014</td>\n",
       "      <td>Manga</td>\n",
       "      <td>9.071</td>\n",
       "      <td>23 min. per ep.</td>\n",
       "    </tr>\n",
       "    <tr>\n",
       "      <th>86</th>\n",
       "      <td>Steins;Gate</td>\n",
       "      <td>TV</td>\n",
       "      <td>White Fox</td>\n",
       "      <td>Apr 6, 2011 to Sep 14, 2011</td>\n",
       "      <td>Visual novel</td>\n",
       "      <td>9.101</td>\n",
       "      <td>24 min. per ep.</td>\n",
       "    </tr>\n",
       "    <tr>\n",
       "      <th>87</th>\n",
       "      <td>Fullmetal Alchemist: Brotherhood</td>\n",
       "      <td>TV</td>\n",
       "      <td>Bones</td>\n",
       "      <td>Apr 5, 2009 to Jul 4, 2010</td>\n",
       "      <td>Manga</td>\n",
       "      <td>9.171</td>\n",
       "      <td>24 min. per ep.</td>\n",
       "    </tr>\n",
       "    <tr>\n",
       "      <th>88</th>\n",
       "      <td>Shingeki no Kyojin</td>\n",
       "      <td>TV</td>\n",
       "      <td>Production I.G, Wit Studio</td>\n",
       "      <td>Apr 7, 2013 to Sep 29, 2013</td>\n",
       "      <td>Manga</td>\n",
       "      <td>8.511</td>\n",
       "      <td>24 min. per ep.</td>\n",
       "    </tr>\n",
       "  </tbody>\n",
       "</table>\n",
       "<p>89 rows × 7 columns</p>\n",
       "</div>"
      ],
      "text/plain": [
       "                               Title Type                     Studios  \\\n",
       "0                    Owari no Seraph   TV                  Wit Studio   \n",
       "1                         Lucky Star   TV             Kyoto Animation   \n",
       "2                  Cardcaptor Sakura   TV                    Madhouse   \n",
       "3   Kobayashi-san Chi no Maid Dragon   TV             Kyoto Animation   \n",
       "4                  Nanatsu no Taizai   TV                A-1 Pictures   \n",
       "..                               ...  ...                         ...   \n",
       "84                        Death Note   TV                    Madhouse   \n",
       "85            Hunter x Hunter (2011)   TV                    Madhouse   \n",
       "86                       Steins;Gate   TV                   White Fox   \n",
       "87  Fullmetal Alchemist: Brotherhood   TV                       Bones   \n",
       "88                Shingeki no Kyojin   TV  Production I.G, Wit Studio   \n",
       "\n",
       "                      Premiered        Source MAL Score         Duration  \n",
       "0   Apr 4, 2015 to Jun 20, 2015         Manga     7.491  23 min. per ep.  \n",
       "1   Apr 8, 2007 to Sep 17, 2007  4-koma manga     7.751  24 min. per ep.  \n",
       "2   Apr 7, 1998 to Mar 21, 2000         Manga     8.151  25 min. per ep.  \n",
       "3   Jan 12, 2017 to Apr 6, 2017         Manga     7.991  24 min. per ep.  \n",
       "4   Oct 5, 2014 to Mar 29, 2015         Manga     7.801  24 min. per ep.  \n",
       "..                          ...           ...       ...              ...  \n",
       "84  Oct 4, 2006 to Jun 27, 2007         Manga     8.631  23 min. per ep.  \n",
       "85  Oct 2, 2011 to Sep 24, 2014         Manga     9.071  23 min. per ep.  \n",
       "86  Apr 6, 2011 to Sep 14, 2011  Visual novel     9.101  24 min. per ep.  \n",
       "87   Apr 5, 2009 to Jul 4, 2010         Manga     9.171  24 min. per ep.  \n",
       "88  Apr 7, 2013 to Sep 29, 2013         Manga     8.511  24 min. per ep.  \n",
       "\n",
       "[89 rows x 7 columns]"
      ]
     },
     "metadata": {},
     "output_type": "display_data"
    }
   ],
   "source": [
    "# get the table on each bla2 bla\n",
    "rows = anime[0].find_all(\"tr\")\n",
    "kolom, data = [], []\n",
    "\n",
    "# list coprehension, then\n",
    "# ambil teks dalam tabel, hilangkan baris kosong, split berdasar enter\n",
    "[kolom.append(item.text.strip().split(\"\\n\")[0]) for i,item in enumerate(rows) if i>0]\n",
    "\n",
    "# data\n",
    "for j,k in enumerate(anime):\n",
    "    rows = anime[j].find_all(\"tr\")\n",
    "    [data.append(item.text.strip().split(\"\\n\")[1]) for i,item in enumerate(rows) if i>0]\n",
    "\n",
    "data2 = np.array(data).reshape(89,7)\n",
    "data2 = pd.DataFrame(data2, columns=kolom)\n",
    "display(data2)"
   ]
  },
  {
   "cell_type": "code",
   "execution_count": 7,
   "id": "61b6b593",
   "metadata": {
    "execution": {
     "iopub.execute_input": "2023-04-05T07:45:55.715841Z",
     "iopub.status.busy": "2023-04-05T07:45:55.715348Z",
     "iopub.status.idle": "2023-04-05T07:45:55.720897Z",
     "shell.execute_reply": "2023-04-05T07:45:55.719582Z"
    },
    "papermill": {
     "duration": 0.014628,
     "end_time": "2023-04-05T07:45:55.723913",
     "exception": false,
     "start_time": "2023-04-05T07:45:55.709285",
     "status": "completed"
    },
    "tags": []
   },
   "outputs": [],
   "source": [
    "### Data Preprocess"
   ]
  },
  {
   "cell_type": "code",
   "execution_count": 8,
   "id": "8f53aa64",
   "metadata": {
    "execution": {
     "iopub.execute_input": "2023-04-05T07:45:55.735503Z",
     "iopub.status.busy": "2023-04-05T07:45:55.735058Z",
     "iopub.status.idle": "2023-04-05T07:45:56.096858Z",
     "shell.execute_reply": "2023-04-05T07:45:56.095539Z"
    },
    "papermill": {
     "duration": 0.371252,
     "end_time": "2023-04-05T07:45:56.100067",
     "exception": false,
     "start_time": "2023-04-05T07:45:55.728815",
     "status": "completed"
    },
    "tags": []
   },
   "outputs": [
    {
     "name": "stdout",
     "output_type": "stream",
     "text": [
      "<class 'pandas.core.frame.DataFrame'>\n",
      "RangeIndex: 89 entries, 0 to 88\n",
      "Data columns (total 7 columns):\n",
      " #   Column     Non-Null Count  Dtype \n",
      "---  ------     --------------  ----- \n",
      " 0   Title      89 non-null     object\n",
      " 1   Type       89 non-null     object\n",
      " 2   Studios    89 non-null     object\n",
      " 3   Premiered  89 non-null     object\n",
      " 4   Source     89 non-null     object\n",
      " 5   MAL Score  89 non-null     object\n",
      " 6   Duration   89 non-null     object\n",
      "dtypes: object(7)\n",
      "memory usage: 5.0+ KB\n"
     ]
    },
    {
     "data": {
      "text/html": [
       "<div>\n",
       "<style scoped>\n",
       "    .dataframe tbody tr th:only-of-type {\n",
       "        vertical-align: middle;\n",
       "    }\n",
       "\n",
       "    .dataframe tbody tr th {\n",
       "        vertical-align: top;\n",
       "    }\n",
       "\n",
       "    .dataframe thead th {\n",
       "        text-align: right;\n",
       "    }\n",
       "</style>\n",
       "<table border=\"1\" class=\"dataframe\">\n",
       "  <thead>\n",
       "    <tr style=\"text-align: right;\">\n",
       "      <th></th>\n",
       "      <th>Title</th>\n",
       "      <th>Type</th>\n",
       "      <th>Studios</th>\n",
       "      <th>Premiered</th>\n",
       "      <th>Source</th>\n",
       "      <th>MAL Score</th>\n",
       "      <th>Duration</th>\n",
       "    </tr>\n",
       "  </thead>\n",
       "  <tbody>\n",
       "    <tr>\n",
       "      <th>0</th>\n",
       "      <td>Owari no Seraph</td>\n",
       "      <td>TV</td>\n",
       "      <td>Wit Studio</td>\n",
       "      <td>Apr 4, 2015 to Jun 20, 2015</td>\n",
       "      <td>Manga</td>\n",
       "      <td>7.491</td>\n",
       "      <td>23 min. per ep.</td>\n",
       "    </tr>\n",
       "    <tr>\n",
       "      <th>1</th>\n",
       "      <td>Lucky Star</td>\n",
       "      <td>TV</td>\n",
       "      <td>Kyoto Animation</td>\n",
       "      <td>Apr 8, 2007 to Sep 17, 2007</td>\n",
       "      <td>4-koma manga</td>\n",
       "      <td>7.751</td>\n",
       "      <td>24 min. per ep.</td>\n",
       "    </tr>\n",
       "    <tr>\n",
       "      <th>2</th>\n",
       "      <td>Cardcaptor Sakura</td>\n",
       "      <td>TV</td>\n",
       "      <td>Madhouse</td>\n",
       "      <td>Apr 7, 1998 to Mar 21, 2000</td>\n",
       "      <td>Manga</td>\n",
       "      <td>8.151</td>\n",
       "      <td>25 min. per ep.</td>\n",
       "    </tr>\n",
       "    <tr>\n",
       "      <th>3</th>\n",
       "      <td>Kobayashi-san Chi no Maid Dragon</td>\n",
       "      <td>TV</td>\n",
       "      <td>Kyoto Animation</td>\n",
       "      <td>Jan 12, 2017 to Apr 6, 2017</td>\n",
       "      <td>Manga</td>\n",
       "      <td>7.991</td>\n",
       "      <td>24 min. per ep.</td>\n",
       "    </tr>\n",
       "    <tr>\n",
       "      <th>4</th>\n",
       "      <td>Nanatsu no Taizai</td>\n",
       "      <td>TV</td>\n",
       "      <td>A-1 Pictures</td>\n",
       "      <td>Oct 5, 2014 to Mar 29, 2015</td>\n",
       "      <td>Manga</td>\n",
       "      <td>7.801</td>\n",
       "      <td>24 min. per ep.</td>\n",
       "    </tr>\n",
       "  </tbody>\n",
       "</table>\n",
       "</div>"
      ],
      "text/plain": [
       "                              Title Type          Studios  \\\n",
       "0                   Owari no Seraph   TV       Wit Studio   \n",
       "1                        Lucky Star   TV  Kyoto Animation   \n",
       "2                 Cardcaptor Sakura   TV         Madhouse   \n",
       "3  Kobayashi-san Chi no Maid Dragon   TV  Kyoto Animation   \n",
       "4                 Nanatsu no Taizai   TV     A-1 Pictures   \n",
       "\n",
       "                     Premiered        Source MAL Score         Duration  \n",
       "0  Apr 4, 2015 to Jun 20, 2015         Manga     7.491  23 min. per ep.  \n",
       "1  Apr 8, 2007 to Sep 17, 2007  4-koma manga     7.751  24 min. per ep.  \n",
       "2  Apr 7, 1998 to Mar 21, 2000         Manga     8.151  25 min. per ep.  \n",
       "3  Jan 12, 2017 to Apr 6, 2017         Manga     7.991  24 min. per ep.  \n",
       "4  Oct 5, 2014 to Mar 29, 2015         Manga     7.801  24 min. per ep.  "
      ]
     },
     "metadata": {},
     "output_type": "display_data"
    },
    {
     "data": {
      "text/plain": [
       "None"
      ]
     },
     "metadata": {},
     "output_type": "display_data"
    },
    {
     "data": {
      "text/plain": [
       "<seaborn.axisgrid.FacetGrid at 0x758782fe3110>"
      ]
     },
     "execution_count": 8,
     "metadata": {},
     "output_type": "execute_result"
    },
    {
     "data": {
      "image/png": "[encoded data removed]",
      "text/plain": [
       "<Figure size 360x360 with 1 Axes>"
      ]
     },
     "metadata": {
      "needs_background": "light"
     },
     "output_type": "display_data"
    }
   ],
   "source": [
    "## Join dataA and dataB cant do tho\n",
    "\n",
    "## So, here, some preprocess\n",
    "dataB = data2.copy()\n",
    "display(dataB.head(), dataB.info())\n",
    "\n",
    "# Change duration to minutes\n",
    "## Movie\n",
    "mov = dataB.loc[dataB.Type==\"Movie\", \"Duration\"]\n",
    "spt = mov.str.split(\" \", n=-1, expand=True)[[0,2]].astype(\"int\")\n",
    "dataB.loc[dataB.Type==\"Movie\", \"Duration\"] = spt[0]*60 + spt[2]\n",
    "\n",
    "## Non Movie\n",
    "nmov = dataB.loc[dataB.Type!=\"Movie\", \"Duration\"]\n",
    "dataB.loc[dataB.Type!=\"Movie\", \"Duration\"] = nmov.str.split(\" \", n=-1, expand=True)[0]\n",
    "\n",
    "## Astype numeric\n",
    "dataB.Duration = dataB.loc[:, \"Duration\"].astype(\"int\")\n",
    "\n",
    "##\n",
    "dataB.Duration\n",
    "sns.catplot(y=\"Duration\", x=\"Type\", data=dataB, kind=\"strip\")"
   ]
  },
  {
   "cell_type": "code",
   "execution_count": 9,
   "id": "a512ef5f",
   "metadata": {
    "execution": {
     "iopub.execute_input": "2023-04-05T07:45:56.113847Z",
     "iopub.status.busy": "2023-04-05T07:45:56.113133Z",
     "iopub.status.idle": "2023-04-05T07:45:56.145163Z",
     "shell.execute_reply": "2023-04-05T07:45:56.143786Z"
    },
    "papermill": {
     "duration": 0.041678,
     "end_time": "2023-04-05T07:45:56.147800",
     "exception": false,
     "start_time": "2023-04-05T07:45:56.106122",
     "status": "completed"
    },
    "tags": []
   },
   "outputs": [
    {
     "data": {
      "text/html": [
       "<div>\n",
       "<style scoped>\n",
       "    .dataframe tbody tr th:only-of-type {\n",
       "        vertical-align: middle;\n",
       "    }\n",
       "\n",
       "    .dataframe tbody tr th {\n",
       "        vertical-align: top;\n",
       "    }\n",
       "\n",
       "    .dataframe thead th {\n",
       "        text-align: right;\n",
       "    }\n",
       "</style>\n",
       "<table border=\"1\" class=\"dataframe\">\n",
       "  <thead>\n",
       "    <tr style=\"text-align: right;\">\n",
       "      <th></th>\n",
       "      <th>Title</th>\n",
       "      <th>Type</th>\n",
       "      <th>Studios</th>\n",
       "      <th>Premiered</th>\n",
       "      <th>Source</th>\n",
       "      <th>MAL Score</th>\n",
       "      <th>Duration</th>\n",
       "    </tr>\n",
       "  </thead>\n",
       "  <tbody>\n",
       "    <tr>\n",
       "      <th>0</th>\n",
       "      <td>Owari no Seraph</td>\n",
       "      <td>TV</td>\n",
       "      <td>Wit Studio</td>\n",
       "      <td>Apr 4, 2015 to Jun 20, 2015</td>\n",
       "      <td>Manga</td>\n",
       "      <td>7.491</td>\n",
       "      <td>23</td>\n",
       "    </tr>\n",
       "    <tr>\n",
       "      <th>1</th>\n",
       "      <td>Lucky Star</td>\n",
       "      <td>TV</td>\n",
       "      <td>Kyoto Animation</td>\n",
       "      <td>Apr 8, 2007 to Sep 17, 2007</td>\n",
       "      <td>4-koma manga</td>\n",
       "      <td>7.751</td>\n",
       "      <td>24</td>\n",
       "    </tr>\n",
       "    <tr>\n",
       "      <th>2</th>\n",
       "      <td>Cardcaptor Sakura</td>\n",
       "      <td>TV</td>\n",
       "      <td>Madhouse</td>\n",
       "      <td>Apr 7, 1998 to Mar 21, 2000</td>\n",
       "      <td>Manga</td>\n",
       "      <td>8.151</td>\n",
       "      <td>25</td>\n",
       "    </tr>\n",
       "    <tr>\n",
       "      <th>3</th>\n",
       "      <td>Kobayashi-san Chi no Maid Dragon</td>\n",
       "      <td>TV</td>\n",
       "      <td>Kyoto Animation</td>\n",
       "      <td>Jan 12, 2017 to Apr 6, 2017</td>\n",
       "      <td>Manga</td>\n",
       "      <td>7.991</td>\n",
       "      <td>24</td>\n",
       "    </tr>\n",
       "    <tr>\n",
       "      <th>4</th>\n",
       "      <td>Nanatsu no Taizai</td>\n",
       "      <td>TV</td>\n",
       "      <td>A-1 Pictures</td>\n",
       "      <td>Oct 5, 2014 to Mar 29, 2015</td>\n",
       "      <td>Manga</td>\n",
       "      <td>7.801</td>\n",
       "      <td>24</td>\n",
       "    </tr>\n",
       "  </tbody>\n",
       "</table>\n",
       "</div>"
      ],
      "text/plain": [
       "                              Title Type          Studios  \\\n",
       "0                   Owari no Seraph   TV       Wit Studio   \n",
       "1                        Lucky Star   TV  Kyoto Animation   \n",
       "2                 Cardcaptor Sakura   TV         Madhouse   \n",
       "3  Kobayashi-san Chi no Maid Dragon   TV  Kyoto Animation   \n",
       "4                 Nanatsu no Taizai   TV     A-1 Pictures   \n",
       "\n",
       "                     Premiered        Source MAL Score  Duration  \n",
       "0  Apr 4, 2015 to Jun 20, 2015         Manga     7.491        23  \n",
       "1  Apr 8, 2007 to Sep 17, 2007  4-koma manga     7.751        24  \n",
       "2  Apr 7, 1998 to Mar 21, 2000         Manga     8.151        25  \n",
       "3  Jan 12, 2017 to Apr 6, 2017         Manga     7.991        24  \n",
       "4  Oct 5, 2014 to Mar 29, 2015         Manga     7.801        24  "
      ]
     },
     "metadata": {},
     "output_type": "display_data"
    },
    {
     "data": {
      "text/plain": [
       "Madhouse                               13\n",
       "A-1 Pictures                            7\n",
       "Bones                                   6\n",
       "Kyoto Animation                         6\n",
       "Studio Pierrot                          5\n",
       "Studio Ghibli                           4\n",
       "Toei Animation                          4\n",
       "Brain's Base                            3\n",
       "Sunrise                                 3\n",
       "Wit Studio                              2\n",
       "Studio Deen                             2\n",
       "Shaft                                   2\n",
       "White Fox                               2\n",
       "Production I.G                          2\n",
       "OLM                                     2\n",
       "MAPPA                                   2\n",
       "Mushi Production                        1\n",
       "Lerche                                  1\n",
       "Yokohama Animation Lab                  1\n",
       "CoMix Wave Films                        1\n",
       "David Production                        1\n",
       "CloverWorks                             1\n",
       "Asread                                  1\n",
       "Kinema Citrus                           1\n",
       "ufotable                                1\n",
       "P.A. Works                              1\n",
       "Gallop, Studio Deen                     1\n",
       "Gainax                                  1\n",
       "Gainax, Production I.G                  1\n",
       "Studio Chizu                            1\n",
       "K-Factory, Kitty Film Mitaka Studio     1\n",
       "Artland                                 1\n",
       "Studio VOLN                             1\n",
       "J.C.Staff                               1\n",
       "Tokyo Movie Shinsha                     1\n",
       "Gainax, Tatsunoko Production            1\n",
       "TNK                                     1\n",
       "Trigger                                 1\n",
       "Manglobe                                1\n",
       "Production I.G, Wit Studio              1\n",
       "Name: Studios, dtype: int64"
      ]
     },
     "metadata": {},
     "output_type": "display_data"
    },
    {
     "data": {
      "text/plain": [
       "TV       74\n",
       "Movie    12\n",
       "OVA       2\n",
       "ONA       1\n",
       "Name: Type, dtype: int64"
      ]
     },
     "metadata": {},
     "output_type": "display_data"
    },
    {
     "data": {
      "text/plain": [
       "24     40\n",
       "23     18\n",
       "25     12\n",
       "22      3\n",
       "124     2\n",
       "26      2\n",
       "82      1\n",
       "88      1\n",
       "108     1\n",
       "81      1\n",
       "117     1\n",
       "162     1\n",
       "119     1\n",
       "133     1\n",
       "28      1\n",
       "106     1\n",
       "130     1\n",
       "1       1\n",
       "Name: Duration, dtype: int64"
      ]
     },
     "metadata": {},
     "output_type": "display_data"
    },
    {
     "data": {
      "text/plain": [
       "Manga           52\n",
       "Original        16\n",
       "Light novel      8\n",
       "Novel            6\n",
       "Web manga        3\n",
       "Visual novel     2\n",
       "4-koma manga     1\n",
       "Game             1\n",
       "Name: Source, dtype: int64"
      ]
     },
     "metadata": {},
     "output_type": "display_data"
    }
   ],
   "source": [
    "## And Insight as well\n",
    "display(dataB.head(), dataB.Studios.value_counts(), dataB.Type.value_counts(),\n",
    "        dataB.Duration.value_counts(), dataB[\"Source\"].value_counts())\n"
   ]
  },
  {
   "cell_type": "code",
   "execution_count": null,
   "id": "0e38af4e",
   "metadata": {
    "papermill": {
     "duration": 0.005902,
     "end_time": "2023-04-05T07:45:56.159992",
     "exception": false,
     "start_time": "2023-04-05T07:45:56.154090",
     "status": "completed"
    },
    "tags": []
   },
   "outputs": [],
   "source": []
  }
 ],
 "metadata": {
  "kernelspec": {
   "display_name": "Python 3",
   "language": "python",
   "name": "python3"
  },
  "language_info": {
   "codemirror_mode": {
    "name": "ipython",
    "version": 3
   },
   "file_extension": ".py",
   "mimetype": "text/x-python",
   "name": "python",
   "nbconvert_exporter": "python",
   "pygments_lexer": "ipython3",
   "version": "3.7.12"
  },
  "papermill": {
   "default_parameters": {},
   "duration": 13.942103,
   "end_time": "2023-04-05T07:45:56.990537",
   "environment_variables": {},
   "exception": null,
   "input_path": "__notebook__.ipynb",
   "output_path": "__notebook__.ipynb",
   "parameters": {},
   "start_time": "2023-04-05T07:45:43.048434",
   "version": "2.3.4"
  }
 },
 "nbformat": 4,
 "nbformat_minor": 5
}
