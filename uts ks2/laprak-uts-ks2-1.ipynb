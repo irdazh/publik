{
 "cells": [
  {
   "cell_type": "markdown",
   "id": "98a51207",
   "metadata": {
    "papermill": {
     "duration": 0.005282,
     "end_time": "2023-04-06T01:49:37.027566",
     "exception": false,
     "start_time": "2023-04-06T01:49:37.022284",
     "status": "completed"
    },
    "tags": []
   },
   "source": [
    "# Library"
   ]
  },
  {
   "cell_type": "code",
   "execution_count": 1,
   "id": "4d54c3b2",
   "metadata": {
    "execution": {
     "iopub.execute_input": "2023-04-06T01:49:37.038208Z",
     "iopub.status.busy": "2023-04-06T01:49:37.037744Z",
     "iopub.status.idle": "2023-04-06T01:49:38.425572Z",
     "shell.execute_reply": "2023-04-06T01:49:38.424434Z"
    },
    "papermill": {
     "duration": 1.396775,
     "end_time": "2023-04-06T01:49:38.428566",
     "exception": false,
     "start_time": "2023-04-06T01:49:37.031791",
     "status": "completed"
    },
    "tags": []
   },
   "outputs": [],
   "source": [
    "# Library Scrapping \n",
    "# pip install requests\n",
    "# pip install beautifulsoup4\n",
    "import requests\n",
    "from bs4 import BeautifulSoup\n",
    "import pandas as pd\n",
    "import numpy as np\n",
    "import matplotlib as plt\n",
    "import seaborn as sns"
   ]
  },
  {
   "cell_type": "markdown",
   "id": "56858b22",
   "metadata": {
    "papermill": {
     "duration": 0.003754,
     "end_time": "2023-04-06T01:49:38.436416",
     "exception": false,
     "start_time": "2023-04-06T01:49:38.432662",
     "status": "completed"
    },
    "tags": []
   },
   "source": [
    "# Get Content HTML"
   ]
  },
  {
   "cell_type": "code",
   "execution_count": 2,
   "id": "b3e380eb",
   "metadata": {
    "execution": {
     "iopub.execute_input": "2023-04-06T01:49:38.446253Z",
     "iopub.status.busy": "2023-04-06T01:49:38.445791Z",
     "iopub.status.idle": "2023-04-06T01:49:38.608611Z",
     "shell.execute_reply": "2023-04-06T01:49:38.607355Z"
    },
    "papermill": {
     "duration": 0.171305,
     "end_time": "2023-04-06T01:49:38.611614",
     "exception": false,
     "start_time": "2023-04-06T01:49:38.440309",
     "status": "completed"
    },
    "tags": []
   },
   "outputs": [
    {
     "data": {
      "text/plain": [
       "200"
      ]
     },
     "execution_count": 2,
     "metadata": {},
     "output_type": "execute_result"
    }
   ],
   "source": [
    "# First of all we need to check the capability of the website (\"https://www.imdb.com/search/title/?groups=top_100&sort=user_rating,desc\") to be scrapped\n",
    "Link  = 'https://www.entoin.com/entertainment/best-anime-to-watch'\n",
    "page = requests.get(Link)\n",
    "\n",
    "# Check the status of the website\n",
    "# Check Status Code (check at : https://developer.mozilla.org/en-US/docs/Web/HTTP/Status)\n",
    "page.status_code"
   ]
  },
  {
   "cell_type": "code",
   "execution_count": 3,
   "id": "57b35b19",
   "metadata": {
    "execution": {
     "iopub.execute_input": "2023-04-06T01:49:38.621790Z",
     "iopub.status.busy": "2023-04-06T01:49:38.621411Z",
     "iopub.status.idle": "2023-04-06T01:49:38.625668Z",
     "shell.execute_reply": "2023-04-06T01:49:38.624891Z"
    },
    "papermill": {
     "duration": 0.01197,
     "end_time": "2023-04-06T01:49:38.627843",
     "exception": false,
     "start_time": "2023-04-06T01:49:38.615873",
     "status": "completed"
    },
    "tags": []
   },
   "outputs": [],
   "source": [
    "# Check Content\n",
    "# page.text"
   ]
  },
  {
   "cell_type": "markdown",
   "id": "71efcea7",
   "metadata": {
    "papermill": {
     "duration": 0.003767,
     "end_time": "2023-04-06T01:49:38.635781",
     "exception": false,
     "start_time": "2023-04-06T01:49:38.632014",
     "status": "completed"
    },
    "tags": []
   },
   "source": [
    "# Parsing HTML"
   ]
  },
  {
   "cell_type": "code",
   "execution_count": 4,
   "id": "cd948716",
   "metadata": {
    "execution": {
     "iopub.execute_input": "2023-04-06T01:49:38.645337Z",
     "iopub.status.busy": "2023-04-06T01:49:38.644917Z",
     "iopub.status.idle": "2023-04-06T01:49:38.955651Z",
     "shell.execute_reply": "2023-04-06T01:49:38.954403Z"
    },
    "papermill": {
     "duration": 0.318747,
     "end_time": "2023-04-06T01:49:38.958470",
     "exception": false,
     "start_time": "2023-04-06T01:49:38.639723",
     "status": "completed"
    },
    "tags": []
   },
   "outputs": [],
   "source": [
    "#Start Parsing using \"HTML-5\" parser\n",
    "soup = BeautifulSoup(page.content, \"html.parser\")\n",
    "# soup.head()"
   ]
  },
  {
   "cell_type": "markdown",
   "id": "a5b30caf",
   "metadata": {
    "papermill": {
     "duration": 0.003762,
     "end_time": "2023-04-06T01:49:38.967026",
     "exception": false,
     "start_time": "2023-04-06T01:49:38.963264",
     "status": "completed"
    },
    "tags": []
   },
   "source": [
    "# Inspect Element form Web and extract the content"
   ]
  },
  {
   "cell_type": "code",
   "execution_count": 5,
   "id": "f14ec6b9",
   "metadata": {
    "execution": {
     "iopub.execute_input": "2023-04-06T01:49:38.977188Z",
     "iopub.status.busy": "2023-04-06T01:49:38.976801Z",
     "iopub.status.idle": "2023-04-06T01:49:39.045843Z",
     "shell.execute_reply": "2023-04-06T01:49:39.044617Z"
    },
    "papermill": {
     "duration": 0.077093,
     "end_time": "2023-04-06T01:49:39.048518",
     "exception": false,
     "start_time": "2023-04-06T01:49:38.971425",
     "status": "completed"
    },
    "tags": []
   },
   "outputs": [
    {
     "data": {
      "text/plain": [
       "100"
      ]
     },
     "metadata": {},
     "output_type": "display_data"
    },
    {
     "data": {
      "text/plain": [
       "89"
      ]
     },
     "metadata": {},
     "output_type": "display_data"
    },
    {
     "data": {
      "text/html": [
       "<div>\n",
       "<style scoped>\n",
       "    .dataframe tbody tr th:only-of-type {\n",
       "        vertical-align: middle;\n",
       "    }\n",
       "\n",
       "    .dataframe tbody tr th {\n",
       "        vertical-align: top;\n",
       "    }\n",
       "\n",
       "    .dataframe thead th {\n",
       "        text-align: right;\n",
       "    }\n",
       "</style>\n",
       "<table border=\"1\" class=\"dataframe\">\n",
       "  <thead>\n",
       "    <tr style=\"text-align: right;\">\n",
       "      <th></th>\n",
       "      <th>Rank</th>\n",
       "      <th>Title</th>\n",
       "    </tr>\n",
       "  </thead>\n",
       "  <tbody>\n",
       "    <tr>\n",
       "      <th>0</th>\n",
       "      <td>100</td>\n",
       "      <td>Seraph Of The End</td>\n",
       "    </tr>\n",
       "    <tr>\n",
       "      <th>1</th>\n",
       "      <td>99</td>\n",
       "      <td>Lucky Star</td>\n",
       "    </tr>\n",
       "    <tr>\n",
       "      <th>2</th>\n",
       "      <td>98</td>\n",
       "      <td>Cardcaptor Sakura</td>\n",
       "    </tr>\n",
       "    <tr>\n",
       "      <th>3</th>\n",
       "      <td>97</td>\n",
       "      <td>Miss Kobayashi's Dragon Maid</td>\n",
       "    </tr>\n",
       "    <tr>\n",
       "      <th>4</th>\n",
       "      <td>96</td>\n",
       "      <td>Seven Deadly Sins</td>\n",
       "    </tr>\n",
       "  </tbody>\n",
       "</table>\n",
       "</div>"
      ],
      "text/plain": [
       "  Rank                         Title\n",
       "0  100             Seraph Of The End\n",
       "1   99                    Lucky Star\n",
       "2   98             Cardcaptor Sakura\n",
       "3   97  Miss Kobayashi's Dragon Maid\n",
       "4   96             Seven Deadly Sins"
      ]
     },
     "metadata": {},
     "output_type": "display_data"
    }
   ],
   "source": [
    "# Search judul and anime  in the website\n",
    "judul = soup.find_all(\"h2\")\n",
    "anime = soup.find_all('div', \n",
    "                      attrs={'class': 'sptable'})\n",
    "\n",
    "\n",
    "# Check the length of the anime and judul\n",
    "display(len(judul), len(anime))\n",
    "\n",
    "# get the title and rank, beda nama ternyata\n",
    "dataA = pd.DataFrame([judul[i].text.split(\". \") for i in range(100)], \n",
    "                     columns=[\"Rank\", \"Title\"])\n",
    "display(dataA.head())"
   ]
  },
  {
   "cell_type": "code",
   "execution_count": null,
   "id": "d69b97d1",
   "metadata": {
    "papermill": {
     "duration": 0.004381,
     "end_time": "2023-04-06T01:49:39.058158",
     "exception": false,
     "start_time": "2023-04-06T01:49:39.053777",
     "status": "completed"
    },
    "tags": []
   },
   "outputs": [],
   "source": []
  },
  {
   "cell_type": "code",
   "execution_count": 6,
   "id": "141a3e9a",
   "metadata": {
    "execution": {
     "iopub.execute_input": "2023-04-06T01:49:39.068718Z",
     "iopub.status.busy": "2023-04-06T01:49:39.068315Z",
     "iopub.status.idle": "2023-04-06T01:49:39.100587Z",
     "shell.execute_reply": "2023-04-06T01:49:39.099388Z"
    },
    "papermill": {
     "duration": 0.040459,
     "end_time": "2023-04-06T01:49:39.103115",
     "exception": false,
     "start_time": "2023-04-06T01:49:39.062656",
     "status": "completed"
    },
    "tags": []
   },
   "outputs": [
    {
     "data": {
      "text/html": [
       "<div>\n",
       "<style scoped>\n",
       "    .dataframe tbody tr th:only-of-type {\n",
       "        vertical-align: middle;\n",
       "    }\n",
       "\n",
       "    .dataframe tbody tr th {\n",
       "        vertical-align: top;\n",
       "    }\n",
       "\n",
       "    .dataframe thead th {\n",
       "        text-align: right;\n",
       "    }\n",
       "</style>\n",
       "<table border=\"1\" class=\"dataframe\">\n",
       "  <thead>\n",
       "    <tr style=\"text-align: right;\">\n",
       "      <th></th>\n",
       "      <th>Title</th>\n",
       "      <th>Type</th>\n",
       "      <th>Studios</th>\n",
       "      <th>Premiered</th>\n",
       "      <th>Source</th>\n",
       "      <th>MAL Score</th>\n",
       "      <th>Duration</th>\n",
       "    </tr>\n",
       "  </thead>\n",
       "  <tbody>\n",
       "    <tr>\n",
       "      <th>0</th>\n",
       "      <td>Owari no Seraph</td>\n",
       "      <td>TV</td>\n",
       "      <td>Wit Studio</td>\n",
       "      <td>Apr 4, 2015 to Jun 20, 2015</td>\n",
       "      <td>Manga</td>\n",
       "      <td>7.491</td>\n",
       "      <td>23 min. per ep.</td>\n",
       "    </tr>\n",
       "    <tr>\n",
       "      <th>1</th>\n",
       "      <td>Lucky Star</td>\n",
       "      <td>TV</td>\n",
       "      <td>Kyoto Animation</td>\n",
       "      <td>Apr 8, 2007 to Sep 17, 2007</td>\n",
       "      <td>4-koma manga</td>\n",
       "      <td>7.751</td>\n",
       "      <td>24 min. per ep.</td>\n",
       "    </tr>\n",
       "    <tr>\n",
       "      <th>2</th>\n",
       "      <td>Cardcaptor Sakura</td>\n",
       "      <td>TV</td>\n",
       "      <td>Madhouse</td>\n",
       "      <td>Apr 7, 1998 to Mar 21, 2000</td>\n",
       "      <td>Manga</td>\n",
       "      <td>8.151</td>\n",
       "      <td>25 min. per ep.</td>\n",
       "    </tr>\n",
       "    <tr>\n",
       "      <th>3</th>\n",
       "      <td>Kobayashi-san Chi no Maid Dragon</td>\n",
       "      <td>TV</td>\n",
       "      <td>Kyoto Animation</td>\n",
       "      <td>Jan 12, 2017 to Apr 6, 2017</td>\n",
       "      <td>Manga</td>\n",
       "      <td>7.991</td>\n",
       "      <td>24 min. per ep.</td>\n",
       "    </tr>\n",
       "    <tr>\n",
       "      <th>4</th>\n",
       "      <td>Nanatsu no Taizai</td>\n",
       "      <td>TV</td>\n",
       "      <td>A-1 Pictures</td>\n",
       "      <td>Oct 5, 2014 to Mar 29, 2015</td>\n",
       "      <td>Manga</td>\n",
       "      <td>7.801</td>\n",
       "      <td>24 min. per ep.</td>\n",
       "    </tr>\n",
       "    <tr>\n",
       "      <th>...</th>\n",
       "      <td>...</td>\n",
       "      <td>...</td>\n",
       "      <td>...</td>\n",
       "      <td>...</td>\n",
       "      <td>...</td>\n",
       "      <td>...</td>\n",
       "      <td>...</td>\n",
       "    </tr>\n",
       "    <tr>\n",
       "      <th>84</th>\n",
       "      <td>Death Note</td>\n",
       "      <td>TV</td>\n",
       "      <td>Madhouse</td>\n",
       "      <td>Oct 4, 2006 to Jun 27, 2007</td>\n",
       "      <td>Manga</td>\n",
       "      <td>8.631</td>\n",
       "      <td>23 min. per ep.</td>\n",
       "    </tr>\n",
       "    <tr>\n",
       "      <th>85</th>\n",
       "      <td>Hunter x Hunter (2011)</td>\n",
       "      <td>TV</td>\n",
       "      <td>Madhouse</td>\n",
       "      <td>Oct 2, 2011 to Sep 24, 2014</td>\n",
       "      <td>Manga</td>\n",
       "      <td>9.071</td>\n",
       "      <td>23 min. per ep.</td>\n",
       "    </tr>\n",
       "    <tr>\n",
       "      <th>86</th>\n",
       "      <td>Steins;Gate</td>\n",
       "      <td>TV</td>\n",
       "      <td>White Fox</td>\n",
       "      <td>Apr 6, 2011 to Sep 14, 2011</td>\n",
       "      <td>Visual novel</td>\n",
       "      <td>9.101</td>\n",
       "      <td>24 min. per ep.</td>\n",
       "    </tr>\n",
       "    <tr>\n",
       "      <th>87</th>\n",
       "      <td>Fullmetal Alchemist: Brotherhood</td>\n",
       "      <td>TV</td>\n",
       "      <td>Bones</td>\n",
       "      <td>Apr 5, 2009 to Jul 4, 2010</td>\n",
       "      <td>Manga</td>\n",
       "      <td>9.171</td>\n",
       "      <td>24 min. per ep.</td>\n",
       "    </tr>\n",
       "    <tr>\n",
       "      <th>88</th>\n",
       "      <td>Shingeki no Kyojin</td>\n",
       "      <td>TV</td>\n",
       "      <td>Production I.G, Wit Studio</td>\n",
       "      <td>Apr 7, 2013 to Sep 29, 2013</td>\n",
       "      <td>Manga</td>\n",
       "      <td>8.511</td>\n",
       "      <td>24 min. per ep.</td>\n",
       "    </tr>\n",
       "  </tbody>\n",
       "</table>\n",
       "<p>89 rows × 7 columns</p>\n",
       "</div>"
      ],
      "text/plain": [
       "                               Title Type                     Studios  \\\n",
       "0                    Owari no Seraph   TV                  Wit Studio   \n",
       "1                         Lucky Star   TV             Kyoto Animation   \n",
       "2                  Cardcaptor Sakura   TV                    Madhouse   \n",
       "3   Kobayashi-san Chi no Maid Dragon   TV             Kyoto Animation   \n",
       "4                  Nanatsu no Taizai   TV                A-1 Pictures   \n",
       "..                               ...  ...                         ...   \n",
       "84                        Death Note   TV                    Madhouse   \n",
       "85            Hunter x Hunter (2011)   TV                    Madhouse   \n",
       "86                       Steins;Gate   TV                   White Fox   \n",
       "87  Fullmetal Alchemist: Brotherhood   TV                       Bones   \n",
       "88                Shingeki no Kyojin   TV  Production I.G, Wit Studio   \n",
       "\n",
       "                      Premiered        Source MAL Score         Duration  \n",
       "0   Apr 4, 2015 to Jun 20, 2015         Manga     7.491  23 min. per ep.  \n",
       "1   Apr 8, 2007 to Sep 17, 2007  4-koma manga     7.751  24 min. per ep.  \n",
       "2   Apr 7, 1998 to Mar 21, 2000         Manga     8.151  25 min. per ep.  \n",
       "3   Jan 12, 2017 to Apr 6, 2017         Manga     7.991  24 min. per ep.  \n",
       "4   Oct 5, 2014 to Mar 29, 2015         Manga     7.801  24 min. per ep.  \n",
       "..                          ...           ...       ...              ...  \n",
       "84  Oct 4, 2006 to Jun 27, 2007         Manga     8.631  23 min. per ep.  \n",
       "85  Oct 2, 2011 to Sep 24, 2014         Manga     9.071  23 min. per ep.  \n",
       "86  Apr 6, 2011 to Sep 14, 2011  Visual novel     9.101  24 min. per ep.  \n",
       "87   Apr 5, 2009 to Jul 4, 2010         Manga     9.171  24 min. per ep.  \n",
       "88  Apr 7, 2013 to Sep 29, 2013         Manga     8.511  24 min. per ep.  \n",
       "\n",
       "[89 rows x 7 columns]"
      ]
     },
     "metadata": {},
     "output_type": "display_data"
    }
   ],
   "source": [
    "# get the table on each bla2 bla\n",
    "rows = anime[0].find_all(\"tr\")\n",
    "kolom, data = [], []\n",
    "\n",
    "# list coprehension, then\n",
    "# ambil teks dalam tabel, hilangkan baris kosong, split berdasar enter\n",
    "[kolom.append(item.text.strip().split(\"\\n\")[0]) \n",
    "    for i,item in enumerate(rows) if i>0]\n",
    "\n",
    "# data\n",
    "for j,k in enumerate(anime):\n",
    "    rows = anime[j].find_all(\"tr\")\n",
    "    [data.append(item.text.strip().split(\"\\n\")[1]) \n",
    "     for i,item in enumerate(rows) if i>0]\n",
    "\n",
    "data2 = np.array(data).reshape(89,7)\n",
    "data2 = pd.DataFrame(data2, columns=kolom)\n",
    "display(data2)"
   ]
  },
  {
   "cell_type": "code",
   "execution_count": 7,
   "id": "17541f1c",
   "metadata": {
    "execution": {
     "iopub.execute_input": "2023-04-06T01:49:39.115056Z",
     "iopub.status.busy": "2023-04-06T01:49:39.114674Z",
     "iopub.status.idle": "2023-04-06T01:49:39.120109Z",
     "shell.execute_reply": "2023-04-06T01:49:39.118786Z"
    },
    "papermill": {
     "duration": 0.014004,
     "end_time": "2023-04-06T01:49:39.122597",
     "exception": false,
     "start_time": "2023-04-06T01:49:39.108593",
     "status": "completed"
    },
    "tags": []
   },
   "outputs": [],
   "source": [
    "### Data Preprocess"
   ]
  },
  {
   "cell_type": "code",
   "execution_count": 8,
   "id": "32cc4f0d",
   "metadata": {
    "execution": {
     "iopub.execute_input": "2023-04-06T01:49:39.133773Z",
     "iopub.status.busy": "2023-04-06T01:49:39.133383Z",
     "iopub.status.idle": "2023-04-06T01:49:39.556437Z",
     "shell.execute_reply": "2023-04-06T01:49:39.555205Z"
    },
    "papermill": {
     "duration": 0.431576,
     "end_time": "2023-04-06T01:49:39.559012",
     "exception": false,
     "start_time": "2023-04-06T01:49:39.127436",
     "status": "completed"
    },
    "tags": []
   },
   "outputs": [
    {
     "name": "stdout",
     "output_type": "stream",
     "text": [
      "<class 'pandas.core.frame.DataFrame'>\n",
      "RangeIndex: 89 entries, 0 to 88\n",
      "Data columns (total 7 columns):\n",
      " #   Column     Non-Null Count  Dtype \n",
      "---  ------     --------------  ----- \n",
      " 0   Title      89 non-null     object\n",
      " 1   Type       89 non-null     object\n",
      " 2   Studios    89 non-null     object\n",
      " 3   Premiered  89 non-null     object\n",
      " 4   Source     89 non-null     object\n",
      " 5   MAL Score  89 non-null     object\n",
      " 6   Duration   89 non-null     object\n",
      "dtypes: object(7)\n",
      "memory usage: 5.0+ KB\n"
     ]
    },
    {
     "data": {
      "text/html": [
       "<div>\n",
       "<style scoped>\n",
       "    .dataframe tbody tr th:only-of-type {\n",
       "        vertical-align: middle;\n",
       "    }\n",
       "\n",
       "    .dataframe tbody tr th {\n",
       "        vertical-align: top;\n",
       "    }\n",
       "\n",
       "    .dataframe thead th {\n",
       "        text-align: right;\n",
       "    }\n",
       "</style>\n",
       "<table border=\"1\" class=\"dataframe\">\n",
       "  <thead>\n",
       "    <tr style=\"text-align: right;\">\n",
       "      <th></th>\n",
       "      <th>Title</th>\n",
       "      <th>Type</th>\n",
       "      <th>Studios</th>\n",
       "      <th>Premiered</th>\n",
       "      <th>Source</th>\n",
       "      <th>MAL Score</th>\n",
       "      <th>Duration</th>\n",
       "    </tr>\n",
       "  </thead>\n",
       "  <tbody>\n",
       "    <tr>\n",
       "      <th>0</th>\n",
       "      <td>Owari no Seraph</td>\n",
       "      <td>TV</td>\n",
       "      <td>Wit Studio</td>\n",
       "      <td>Apr 4, 2015 to Jun 20, 2015</td>\n",
       "      <td>Manga</td>\n",
       "      <td>7.491</td>\n",
       "      <td>23 min. per ep.</td>\n",
       "    </tr>\n",
       "    <tr>\n",
       "      <th>1</th>\n",
       "      <td>Lucky Star</td>\n",
       "      <td>TV</td>\n",
       "      <td>Kyoto Animation</td>\n",
       "      <td>Apr 8, 2007 to Sep 17, 2007</td>\n",
       "      <td>4-koma manga</td>\n",
       "      <td>7.751</td>\n",
       "      <td>24 min. per ep.</td>\n",
       "    </tr>\n",
       "    <tr>\n",
       "      <th>2</th>\n",
       "      <td>Cardcaptor Sakura</td>\n",
       "      <td>TV</td>\n",
       "      <td>Madhouse</td>\n",
       "      <td>Apr 7, 1998 to Mar 21, 2000</td>\n",
       "      <td>Manga</td>\n",
       "      <td>8.151</td>\n",
       "      <td>25 min. per ep.</td>\n",
       "    </tr>\n",
       "    <tr>\n",
       "      <th>3</th>\n",
       "      <td>Kobayashi-san Chi no Maid Dragon</td>\n",
       "      <td>TV</td>\n",
       "      <td>Kyoto Animation</td>\n",
       "      <td>Jan 12, 2017 to Apr 6, 2017</td>\n",
       "      <td>Manga</td>\n",
       "      <td>7.991</td>\n",
       "      <td>24 min. per ep.</td>\n",
       "    </tr>\n",
       "    <tr>\n",
       "      <th>4</th>\n",
       "      <td>Nanatsu no Taizai</td>\n",
       "      <td>TV</td>\n",
       "      <td>A-1 Pictures</td>\n",
       "      <td>Oct 5, 2014 to Mar 29, 2015</td>\n",
       "      <td>Manga</td>\n",
       "      <td>7.801</td>\n",
       "      <td>24 min. per ep.</td>\n",
       "    </tr>\n",
       "  </tbody>\n",
       "</table>\n",
       "</div>"
      ],
      "text/plain": [
       "                              Title Type          Studios  \\\n",
       "0                   Owari no Seraph   TV       Wit Studio   \n",
       "1                        Lucky Star   TV  Kyoto Animation   \n",
       "2                 Cardcaptor Sakura   TV         Madhouse   \n",
       "3  Kobayashi-san Chi no Maid Dragon   TV  Kyoto Animation   \n",
       "4                 Nanatsu no Taizai   TV     A-1 Pictures   \n",
       "\n",
       "                     Premiered        Source MAL Score         Duration  \n",
       "0  Apr 4, 2015 to Jun 20, 2015         Manga     7.491  23 min. per ep.  \n",
       "1  Apr 8, 2007 to Sep 17, 2007  4-koma manga     7.751  24 min. per ep.  \n",
       "2  Apr 7, 1998 to Mar 21, 2000         Manga     8.151  25 min. per ep.  \n",
       "3  Jan 12, 2017 to Apr 6, 2017         Manga     7.991  24 min. per ep.  \n",
       "4  Oct 5, 2014 to Mar 29, 2015         Manga     7.801  24 min. per ep.  "
      ]
     },
     "metadata": {},
     "output_type": "display_data"
    },
    {
     "data": {
      "text/plain": [
       "None"
      ]
     },
     "metadata": {},
     "output_type": "display_data"
    },
    {
     "data": {
      "text/plain": [
       "<seaborn.axisgrid.FacetGrid at 0x7c1f714ce810>"
      ]
     },
     "execution_count": 8,
     "metadata": {},
     "output_type": "execute_result"
    },
    {
     "data": {
      "image/png": "[encoded data removed]",
      "text/plain": [
       "<Figure size 360x360 with 1 Axes>"
      ]
     },
     "metadata": {
      "needs_background": "light"
     },
     "output_type": "display_data"
    }
   ],
   "source": [
    "## Join dataA and dataB cant do tho\n",
    "\n",
    "## So, here, some preprocess\n",
    "dataB = data2.copy()\n",
    "display(dataB.head(), dataB.info())\n",
    "\n",
    "# Change duration to minutes\n",
    "## Movie\n",
    "mov = dataB.loc[dataB.Type==\"Movie\", \"Duration\"]\n",
    "spt = mov.str.split(\" \", n=-1, expand=True)[[0,2]].astype(\"int\")\n",
    "dataB.loc[dataB.Type==\"Movie\", \"Duration\"] = spt[0]*60 + spt[2]\n",
    "\n",
    "## Non Movie\n",
    "nmov = dataB.loc[dataB.Type!=\"Movie\", \"Duration\"]\n",
    "dataB.loc[dataB.Type!=\"Movie\", \"Duration\"] = nmov.str.split(\" \", n=-1, expand=True)[0]\n",
    "\n",
    "## Astype numeric\n",
    "dataB.Duration = dataB.loc[:, \"Duration\"].astype(\"int\")\n",
    "\n",
    "##\n",
    "dataB.Duration\n",
    "sns.catplot(y=\"Duration\", x=\"Type\", data=dataB, kind=\"strip\")"
   ]
  },
  {
   "cell_type": "code",
   "execution_count": 9,
   "id": "64e426ac",
   "metadata": {
    "execution": {
     "iopub.execute_input": "2023-04-06T01:49:39.573108Z",
     "iopub.status.busy": "2023-04-06T01:49:39.572281Z",
     "iopub.status.idle": "2023-04-06T01:49:39.601477Z",
     "shell.execute_reply": "2023-04-06T01:49:39.600269Z"
    },
    "papermill": {
     "duration": 0.038682,
     "end_time": "2023-04-06T01:49:39.603746",
     "exception": false,
     "start_time": "2023-04-06T01:49:39.565064",
     "status": "completed"
    },
    "tags": []
   },
   "outputs": [
    {
     "data": {
      "text/html": [
       "<div>\n",
       "<style scoped>\n",
       "    .dataframe tbody tr th:only-of-type {\n",
       "        vertical-align: middle;\n",
       "    }\n",
       "\n",
       "    .dataframe tbody tr th {\n",
       "        vertical-align: top;\n",
       "    }\n",
       "\n",
       "    .dataframe thead th {\n",
       "        text-align: right;\n",
       "    }\n",
       "</style>\n",
       "<table border=\"1\" class=\"dataframe\">\n",
       "  <thead>\n",
       "    <tr style=\"text-align: right;\">\n",
       "      <th></th>\n",
       "      <th>Title</th>\n",
       "      <th>Type</th>\n",
       "      <th>Studios</th>\n",
       "      <th>Premiered</th>\n",
       "      <th>Source</th>\n",
       "      <th>MAL Score</th>\n",
       "      <th>Duration</th>\n",
       "    </tr>\n",
       "  </thead>\n",
       "  <tbody>\n",
       "    <tr>\n",
       "      <th>0</th>\n",
       "      <td>Owari no Seraph</td>\n",
       "      <td>TV</td>\n",
       "      <td>Wit Studio</td>\n",
       "      <td>Apr 4, 2015 to Jun 20, 2015</td>\n",
       "      <td>Manga</td>\n",
       "      <td>7.491</td>\n",
       "      <td>23</td>\n",
       "    </tr>\n",
       "    <tr>\n",
       "      <th>1</th>\n",
       "      <td>Lucky Star</td>\n",
       "      <td>TV</td>\n",
       "      <td>Kyoto Animation</td>\n",
       "      <td>Apr 8, 2007 to Sep 17, 2007</td>\n",
       "      <td>4-koma manga</td>\n",
       "      <td>7.751</td>\n",
       "      <td>24</td>\n",
       "    </tr>\n",
       "    <tr>\n",
       "      <th>2</th>\n",
       "      <td>Cardcaptor Sakura</td>\n",
       "      <td>TV</td>\n",
       "      <td>Madhouse</td>\n",
       "      <td>Apr 7, 1998 to Mar 21, 2000</td>\n",
       "      <td>Manga</td>\n",
       "      <td>8.151</td>\n",
       "      <td>25</td>\n",
       "    </tr>\n",
       "    <tr>\n",
       "      <th>3</th>\n",
       "      <td>Kobayashi-san Chi no Maid Dragon</td>\n",
       "      <td>TV</td>\n",
       "      <td>Kyoto Animation</td>\n",
       "      <td>Jan 12, 2017 to Apr 6, 2017</td>\n",
       "      <td>Manga</td>\n",
       "      <td>7.991</td>\n",
       "      <td>24</td>\n",
       "    </tr>\n",
       "    <tr>\n",
       "      <th>4</th>\n",
       "      <td>Nanatsu no Taizai</td>\n",
       "      <td>TV</td>\n",
       "      <td>A-1 Pictures</td>\n",
       "      <td>Oct 5, 2014 to Mar 29, 2015</td>\n",
       "      <td>Manga</td>\n",
       "      <td>7.801</td>\n",
       "      <td>24</td>\n",
       "    </tr>\n",
       "  </tbody>\n",
       "</table>\n",
       "</div>"
      ],
      "text/plain": [
       "                              Title Type          Studios  \\\n",
       "0                   Owari no Seraph   TV       Wit Studio   \n",
       "1                        Lucky Star   TV  Kyoto Animation   \n",
       "2                 Cardcaptor Sakura   TV         Madhouse   \n",
       "3  Kobayashi-san Chi no Maid Dragon   TV  Kyoto Animation   \n",
       "4                 Nanatsu no Taizai   TV     A-1 Pictures   \n",
       "\n",
       "                     Premiered        Source MAL Score  Duration  \n",
       "0  Apr 4, 2015 to Jun 20, 2015         Manga     7.491        23  \n",
       "1  Apr 8, 2007 to Sep 17, 2007  4-koma manga     7.751        24  \n",
       "2  Apr 7, 1998 to Mar 21, 2000         Manga     8.151        25  \n",
       "3  Jan 12, 2017 to Apr 6, 2017         Manga     7.991        24  \n",
       "4  Oct 5, 2014 to Mar 29, 2015         Manga     7.801        24  "
      ]
     },
     "metadata": {},
     "output_type": "display_data"
    },
    {
     "data": {
      "text/plain": [
       "Madhouse                               13\n",
       "A-1 Pictures                            7\n",
       "Bones                                   6\n",
       "Kyoto Animation                         6\n",
       "Studio Pierrot                          5\n",
       "Studio Ghibli                           4\n",
       "Toei Animation                          4\n",
       "Brain's Base                            3\n",
       "Sunrise                                 3\n",
       "Wit Studio                              2\n",
       "Studio Deen                             2\n",
       "Shaft                                   2\n",
       "White Fox                               2\n",
       "Production I.G                          2\n",
       "OLM                                     2\n",
       "MAPPA                                   2\n",
       "Mushi Production                        1\n",
       "Lerche                                  1\n",
       "Yokohama Animation Lab                  1\n",
       "CoMix Wave Films                        1\n",
       "David Production                        1\n",
       "CloverWorks                             1\n",
       "Asread                                  1\n",
       "Kinema Citrus                           1\n",
       "ufotable                                1\n",
       "P.A. Works                              1\n",
       "Gallop, Studio Deen                     1\n",
       "Gainax                                  1\n",
       "Gainax, Production I.G                  1\n",
       "Studio Chizu                            1\n",
       "K-Factory, Kitty Film Mitaka Studio     1\n",
       "Artland                                 1\n",
       "Studio VOLN                             1\n",
       "J.C.Staff                               1\n",
       "Tokyo Movie Shinsha                     1\n",
       "Gainax, Tatsunoko Production            1\n",
       "TNK                                     1\n",
       "Trigger                                 1\n",
       "Manglobe                                1\n",
       "Production I.G, Wit Studio              1\n",
       "Name: Studios, dtype: int64"
      ]
     },
     "metadata": {},
     "output_type": "display_data"
    },
    {
     "data": {
      "text/plain": [
       "TV       74\n",
       "Movie    12\n",
       "OVA       2\n",
       "ONA       1\n",
       "Name: Type, dtype: int64"
      ]
     },
     "metadata": {},
     "output_type": "display_data"
    },
    {
     "data": {
      "text/plain": [
       "24     40\n",
       "23     18\n",
       "25     12\n",
       "22      3\n",
       "124     2\n",
       "26      2\n",
       "82      1\n",
       "88      1\n",
       "108     1\n",
       "81      1\n",
       "117     1\n",
       "162     1\n",
       "119     1\n",
       "133     1\n",
       "28      1\n",
       "106     1\n",
       "130     1\n",
       "1       1\n",
       "Name: Duration, dtype: int64"
      ]
     },
     "metadata": {},
     "output_type": "display_data"
    },
    {
     "data": {
      "text/plain": [
       "Manga           52\n",
       "Original        16\n",
       "Light novel      8\n",
       "Novel            6\n",
       "Web manga        3\n",
       "Visual novel     2\n",
       "4-koma manga     1\n",
       "Game             1\n",
       "Name: Source, dtype: int64"
      ]
     },
     "metadata": {},
     "output_type": "display_data"
    }
   ],
   "source": [
    "## And Insight as well\n",
    "display(dataB.head(), dataB.Studios.value_counts(), dataB.Type.value_counts(),\n",
    "        dataB.Duration.value_counts(), dataB[\"Source\"].value_counts())\n"
   ]
  },
  {
   "cell_type": "code",
   "execution_count": null,
   "id": "7fc33f9c",
   "metadata": {
    "papermill": {
     "duration": 0.006049,
     "end_time": "2023-04-06T01:49:39.616198",
     "exception": false,
     "start_time": "2023-04-06T01:49:39.610149",
     "status": "completed"
    },
    "tags": []
   },
   "outputs": [],
   "source": []
  }
 ],
 "metadata": {
  "kernelspec": {
   "display_name": "Python 3",
   "language": "python",
   "name": "python3"
  },
  "language_info": {
   "codemirror_mode": {
    "name": "ipython",
    "version": 3
   },
   "file_extension": ".py",
   "mimetype": "text/x-python",
   "name": "python",
   "nbconvert_exporter": "python",
   "pygments_lexer": "ipython3",
   "version": "3.7.12"
  },
  "papermill": {
   "default_parameters": {},
   "duration": 13.568172,
   "end_time": "2023-04-06T01:49:40.446565",
   "environment_variables": {},
   "exception": null,
   "input_path": "__notebook__.ipynb",
   "output_path": "__notebook__.ipynb",
   "parameters": {},
   "start_time": "2023-04-06T01:49:26.878393",
   "version": "2.3.4"
  }
 },
 "nbformat": 4,
 "nbformat_minor": 5
}
