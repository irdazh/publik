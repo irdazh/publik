{
 "cells": [
  {
   "cell_type": "markdown",
   "id": "e2485209",
   "metadata": {
    "papermill": {
     "duration": 0.006585,
     "end_time": "2023-04-04T14:50:28.478158",
     "exception": false,
     "start_time": "2023-04-04T14:50:28.471573",
     "status": "completed"
    },
    "tags": []
   },
   "source": [
    "# Library"
   ]
  },
  {
   "cell_type": "code",
   "execution_count": 1,
   "id": "dcd52b78",
   "metadata": {
    "execution": {
     "iopub.execute_input": "2023-04-04T14:50:28.490515Z",
     "iopub.status.busy": "2023-04-04T14:50:28.489907Z",
     "iopub.status.idle": "2023-04-04T14:50:28.714869Z",
     "shell.execute_reply": "2023-04-04T14:50:28.713423Z"
    },
    "papermill": {
     "duration": 0.234476,
     "end_time": "2023-04-04T14:50:28.717961",
     "exception": false,
     "start_time": "2023-04-04T14:50:28.483485",
     "status": "completed"
    },
    "tags": []
   },
   "outputs": [],
   "source": [
    "# Library Scrapping \n",
    "# pip install requests\n",
    "# pip install beautifulsoup4\n",
    "import requests\n",
    "from bs4 import BeautifulSoup\n",
    "import pandas as pd\n",
    "import numpy as np"
   ]
  },
  {
   "cell_type": "markdown",
   "id": "2d37c0e6",
   "metadata": {
    "papermill": {
     "duration": 0.00475,
     "end_time": "2023-04-04T14:50:28.727928",
     "exception": false,
     "start_time": "2023-04-04T14:50:28.723178",
     "status": "completed"
    },
    "tags": []
   },
   "source": [
    "# Get Content HTML"
   ]
  },
  {
   "cell_type": "code",
   "execution_count": 2,
   "id": "a1fac3f8",
   "metadata": {
    "execution": {
     "iopub.execute_input": "2023-04-04T14:50:28.740586Z",
     "iopub.status.busy": "2023-04-04T14:50:28.740191Z",
     "iopub.status.idle": "2023-04-04T14:50:28.930936Z",
     "shell.execute_reply": "2023-04-04T14:50:28.929717Z"
    },
    "papermill": {
     "duration": 0.201291,
     "end_time": "2023-04-04T14:50:28.934234",
     "exception": false,
     "start_time": "2023-04-04T14:50:28.732943",
     "status": "completed"
    },
    "tags": []
   },
   "outputs": [
    {
     "data": {
      "text/plain": [
       "200"
      ]
     },
     "execution_count": 2,
     "metadata": {},
     "output_type": "execute_result"
    }
   ],
   "source": [
    "# First of all we need to check the capability of the website (\"https://www.imdb.com/search/title/?groups=top_100&sort=user_rating,desc\") to be scrapped\n",
    "Link  = 'https://www.entoin.com/entertainment/best-anime-to-watch'\n",
    "page = requests.get(Link)\n",
    "\n",
    "# Check the status of the website\n",
    "# Check Status Code (check at : https://developer.mozilla.org/en-US/docs/Web/HTTP/Status)\n",
    "page.status_code"
   ]
  },
  {
   "cell_type": "code",
   "execution_count": 3,
   "id": "48088744",
   "metadata": {
    "execution": {
     "iopub.execute_input": "2023-04-04T14:50:28.946375Z",
     "iopub.status.busy": "2023-04-04T14:50:28.945993Z",
     "iopub.status.idle": "2023-04-04T14:50:28.950888Z",
     "shell.execute_reply": "2023-04-04T14:50:28.949779Z"
    },
    "papermill": {
     "duration": 0.013586,
     "end_time": "2023-04-04T14:50:28.953144",
     "exception": false,
     "start_time": "2023-04-04T14:50:28.939558",
     "status": "completed"
    },
    "tags": []
   },
   "outputs": [],
   "source": [
    "# Check Content"
   ]
  },
  {
   "cell_type": "markdown",
   "id": "4a76d3c8",
   "metadata": {
    "papermill": {
     "duration": 0.004936,
     "end_time": "2023-04-04T14:50:28.963317",
     "exception": false,
     "start_time": "2023-04-04T14:50:28.958381",
     "status": "completed"
    },
    "tags": []
   },
   "source": [
    "# Parsing HTML"
   ]
  },
  {
   "cell_type": "code",
   "execution_count": 4,
   "id": "153cbc2d",
   "metadata": {
    "execution": {
     "iopub.execute_input": "2023-04-04T14:50:28.975078Z",
     "iopub.status.busy": "2023-04-04T14:50:28.974665Z",
     "iopub.status.idle": "2023-04-04T14:50:29.395035Z",
     "shell.execute_reply": "2023-04-04T14:50:29.393757Z"
    },
    "papermill": {
     "duration": 0.429441,
     "end_time": "2023-04-04T14:50:29.397819",
     "exception": false,
     "start_time": "2023-04-04T14:50:28.968378",
     "status": "completed"
    },
    "tags": []
   },
   "outputs": [
    {
     "data": {
      "text/plain": [
       "[]"
      ]
     },
     "execution_count": 4,
     "metadata": {},
     "output_type": "execute_result"
    }
   ],
   "source": [
    "#Start Parsing using \"HTML-5\" parser\n",
    "soup = BeautifulSoup(page.content, \"html.parser\")\n",
    "soup.head(0)\n"
   ]
  },
  {
   "cell_type": "markdown",
   "id": "bcb2912d",
   "metadata": {
    "papermill": {
     "duration": 0.005161,
     "end_time": "2023-04-04T14:50:29.408499",
     "exception": false,
     "start_time": "2023-04-04T14:50:29.403338",
     "status": "completed"
    },
    "tags": []
   },
   "source": [
    "# Inspect Element form Web and extract the content"
   ]
  },
  {
   "cell_type": "code",
   "execution_count": 5,
   "id": "bf7be5e3",
   "metadata": {
    "execution": {
     "iopub.execute_input": "2023-04-04T14:50:29.423064Z",
     "iopub.status.busy": "2023-04-04T14:50:29.421913Z",
     "iopub.status.idle": "2023-04-04T14:50:29.472886Z",
     "shell.execute_reply": "2023-04-04T14:50:29.471673Z"
    },
    "papermill": {
     "duration": 0.061853,
     "end_time": "2023-04-04T14:50:29.475761",
     "exception": false,
     "start_time": "2023-04-04T14:50:29.413908",
     "status": "completed"
    },
    "tags": []
   },
   "outputs": [],
   "source": [
    "# Search anime  in the website\n",
    "anime = soup.find_all('div', attrs={'class': 'sptable'})\n",
    "judul = soup.find_all(\"h2\")\n",
    "\n",
    "# Check the length of the anime\n",
    "len(anime)\n",
    "\n",
    "# get the title and rank, beda nama ternyata\n",
    "dataA = pd.DataFrame([item.text.strip().split(\"\\n\") for i,item in enumerate(judul)])[0].str.split(\".\", n=1, expand=True)\n",
    "dataA.columns = [\"Rank\", \"Title\"]"
   ]
  },
  {
   "cell_type": "code",
   "execution_count": null,
   "id": "983cc634",
   "metadata": {
    "papermill": {
     "duration": 0.005034,
     "end_time": "2023-04-04T14:50:29.486184",
     "exception": false,
     "start_time": "2023-04-04T14:50:29.481150",
     "status": "completed"
    },
    "tags": []
   },
   "outputs": [],
   "source": []
  },
  {
   "cell_type": "code",
   "execution_count": 6,
   "id": "24b21a11",
   "metadata": {
    "execution": {
     "iopub.execute_input": "2023-04-04T14:50:29.498788Z",
     "iopub.status.busy": "2023-04-04T14:50:29.498282Z",
     "iopub.status.idle": "2023-04-04T14:50:29.522237Z",
     "shell.execute_reply": "2023-04-04T14:50:29.520808Z"
    },
    "papermill": {
     "duration": 0.03329,
     "end_time": "2023-04-04T14:50:29.524950",
     "exception": false,
     "start_time": "2023-04-04T14:50:29.491660",
     "status": "completed"
    },
    "tags": []
   },
   "outputs": [
    {
     "data": {
      "text/plain": [
       "['Title', 'Type', 'Studios', 'Premiered', 'Source', 'MAL Score', 'Duration']"
      ]
     },
     "metadata": {},
     "output_type": "display_data"
    },
    {
     "data": {
      "text/plain": [
       "array([['Owari no Seraph', 'TV', 'Wit Studio',\n",
       "        'Apr 4, 2015 to Jun 20, 2015', 'Manga', '7.491',\n",
       "        '23 min. per ep.'],\n",
       "       ['Lucky Star', 'TV', 'Kyoto Animation',\n",
       "        'Apr 8, 2007 to Sep 17, 2007', '4-koma manga', '7.751',\n",
       "        '24 min. per ep.']], dtype='<U58')"
      ]
     },
     "metadata": {},
     "output_type": "display_data"
    }
   ],
   "source": [
    "# get the table on each bla2 bla\n",
    "rows = anime[0].find_all(\"tr\")\n",
    "kolom, data = [], []\n",
    "\n",
    "# list coprehension, then\n",
    "# ambil teks dalam tabel, hilangkan baris kosong, split berdasar enter\n",
    "[kolom.append(item.text.strip().split(\"\\n\")[0]) for i,item in enumerate(rows) if i>0]\n",
    "\n",
    "# data\n",
    "for j,k in enumerate(anime):\n",
    "    rows = anime[j].find_all(\"tr\")\n",
    "    [data.append(item.text.strip().split(\"\\n\")[1]) for i,item in enumerate(rows) if i>0]\n",
    "\n",
    "data2 = np.array(data).reshape(89,7)\n",
    "display(kolom, data2[:2])\n"
   ]
  },
  {
   "cell_type": "code",
   "execution_count": 7,
   "id": "10b2e29b",
   "metadata": {
    "execution": {
     "iopub.execute_input": "2023-04-04T14:50:29.538268Z",
     "iopub.status.busy": "2023-04-04T14:50:29.537876Z",
     "iopub.status.idle": "2023-04-04T14:50:29.557034Z",
     "shell.execute_reply": "2023-04-04T14:50:29.555787Z"
    },
    "papermill": {
     "duration": 0.029017,
     "end_time": "2023-04-04T14:50:29.559680",
     "exception": false,
     "start_time": "2023-04-04T14:50:29.530663",
     "status": "completed"
    },
    "tags": []
   },
   "outputs": [],
   "source": [
    "## Join dataA and dataB cant do tho\n",
    "\n",
    "## So, here, some preprocess\n",
    "dataB = pd.DataFrame(data2, columns=kolom)\n",
    "dataB[\"Minutes\"] = dataB[\"Duration\"].str.split(\" \", n=-1, expand=True)[0]\n",
    "\n",
    "dataB[\"Year Start\"] = dataB[\"Premiered\"].str.split(\" \", n=-1, expand=True)[2]\n",
    "dataB[\"Year End\"] = dataB[\"Premiered\"].str.split(\" \", n=-1, expand=True)[6]\n"
   ]
  },
  {
   "cell_type": "code",
   "execution_count": 8,
   "id": "136da55b",
   "metadata": {
    "execution": {
     "iopub.execute_input": "2023-04-04T14:50:29.572871Z",
     "iopub.status.busy": "2023-04-04T14:50:29.572418Z",
     "iopub.status.idle": "2023-04-04T14:50:29.610041Z",
     "shell.execute_reply": "2023-04-04T14:50:29.608801Z"
    },
    "papermill": {
     "duration": 0.047098,
     "end_time": "2023-04-04T14:50:29.612497",
     "exception": false,
     "start_time": "2023-04-04T14:50:29.565399",
     "status": "completed"
    },
    "tags": []
   },
   "outputs": [
    {
     "data": {
      "text/html": [
       "<div>\n",
       "<style scoped>\n",
       "    .dataframe tbody tr th:only-of-type {\n",
       "        vertical-align: middle;\n",
       "    }\n",
       "\n",
       "    .dataframe tbody tr th {\n",
       "        vertical-align: top;\n",
       "    }\n",
       "\n",
       "    .dataframe thead th {\n",
       "        text-align: right;\n",
       "    }\n",
       "</style>\n",
       "<table border=\"1\" class=\"dataframe\">\n",
       "  <thead>\n",
       "    <tr style=\"text-align: right;\">\n",
       "      <th></th>\n",
       "      <th>Title</th>\n",
       "      <th>Type</th>\n",
       "      <th>Studios</th>\n",
       "      <th>Premiered</th>\n",
       "      <th>Source</th>\n",
       "      <th>MAL Score</th>\n",
       "      <th>Duration</th>\n",
       "      <th>Minutes</th>\n",
       "      <th>Year Start</th>\n",
       "      <th>Year End</th>\n",
       "    </tr>\n",
       "  </thead>\n",
       "  <tbody>\n",
       "    <tr>\n",
       "      <th>0</th>\n",
       "      <td>Owari no Seraph</td>\n",
       "      <td>TV</td>\n",
       "      <td>Wit Studio</td>\n",
       "      <td>Apr 4, 2015 to Jun 20, 2015</td>\n",
       "      <td>Manga</td>\n",
       "      <td>7.491</td>\n",
       "      <td>23 min. per ep.</td>\n",
       "      <td>23</td>\n",
       "      <td>2015</td>\n",
       "      <td>2015</td>\n",
       "    </tr>\n",
       "    <tr>\n",
       "      <th>1</th>\n",
       "      <td>Lucky Star</td>\n",
       "      <td>TV</td>\n",
       "      <td>Kyoto Animation</td>\n",
       "      <td>Apr 8, 2007 to Sep 17, 2007</td>\n",
       "      <td>4-koma manga</td>\n",
       "      <td>7.751</td>\n",
       "      <td>24 min. per ep.</td>\n",
       "      <td>24</td>\n",
       "      <td>2007</td>\n",
       "      <td>2007</td>\n",
       "    </tr>\n",
       "    <tr>\n",
       "      <th>2</th>\n",
       "      <td>Cardcaptor Sakura</td>\n",
       "      <td>TV</td>\n",
       "      <td>Madhouse</td>\n",
       "      <td>Apr 7, 1998 to Mar 21, 2000</td>\n",
       "      <td>Manga</td>\n",
       "      <td>8.151</td>\n",
       "      <td>25 min. per ep.</td>\n",
       "      <td>25</td>\n",
       "      <td>1998</td>\n",
       "      <td>2000</td>\n",
       "    </tr>\n",
       "    <tr>\n",
       "      <th>3</th>\n",
       "      <td>Kobayashi-san Chi no Maid Dragon</td>\n",
       "      <td>TV</td>\n",
       "      <td>Kyoto Animation</td>\n",
       "      <td>Jan 12, 2017 to Apr 6, 2017</td>\n",
       "      <td>Manga</td>\n",
       "      <td>7.991</td>\n",
       "      <td>24 min. per ep.</td>\n",
       "      <td>24</td>\n",
       "      <td>2017</td>\n",
       "      <td>2017</td>\n",
       "    </tr>\n",
       "    <tr>\n",
       "      <th>4</th>\n",
       "      <td>Nanatsu no Taizai</td>\n",
       "      <td>TV</td>\n",
       "      <td>A-1 Pictures</td>\n",
       "      <td>Oct 5, 2014 to Mar 29, 2015</td>\n",
       "      <td>Manga</td>\n",
       "      <td>7.801</td>\n",
       "      <td>24 min. per ep.</td>\n",
       "      <td>24</td>\n",
       "      <td>2014</td>\n",
       "      <td>2015</td>\n",
       "    </tr>\n",
       "    <tr>\n",
       "      <th>...</th>\n",
       "      <td>...</td>\n",
       "      <td>...</td>\n",
       "      <td>...</td>\n",
       "      <td>...</td>\n",
       "      <td>...</td>\n",
       "      <td>...</td>\n",
       "      <td>...</td>\n",
       "      <td>...</td>\n",
       "      <td>...</td>\n",
       "      <td>...</td>\n",
       "    </tr>\n",
       "    <tr>\n",
       "      <th>84</th>\n",
       "      <td>Death Note</td>\n",
       "      <td>TV</td>\n",
       "      <td>Madhouse</td>\n",
       "      <td>Oct 4, 2006 to Jun 27, 2007</td>\n",
       "      <td>Manga</td>\n",
       "      <td>8.631</td>\n",
       "      <td>23 min. per ep.</td>\n",
       "      <td>23</td>\n",
       "      <td>2006</td>\n",
       "      <td>2007</td>\n",
       "    </tr>\n",
       "    <tr>\n",
       "      <th>85</th>\n",
       "      <td>Hunter x Hunter (2011)</td>\n",
       "      <td>TV</td>\n",
       "      <td>Madhouse</td>\n",
       "      <td>Oct 2, 2011 to Sep 24, 2014</td>\n",
       "      <td>Manga</td>\n",
       "      <td>9.071</td>\n",
       "      <td>23 min. per ep.</td>\n",
       "      <td>23</td>\n",
       "      <td>2011</td>\n",
       "      <td>2014</td>\n",
       "    </tr>\n",
       "    <tr>\n",
       "      <th>86</th>\n",
       "      <td>Steins;Gate</td>\n",
       "      <td>TV</td>\n",
       "      <td>White Fox</td>\n",
       "      <td>Apr 6, 2011 to Sep 14, 2011</td>\n",
       "      <td>Visual novel</td>\n",
       "      <td>9.101</td>\n",
       "      <td>24 min. per ep.</td>\n",
       "      <td>24</td>\n",
       "      <td>2011</td>\n",
       "      <td>2011</td>\n",
       "    </tr>\n",
       "    <tr>\n",
       "      <th>87</th>\n",
       "      <td>Fullmetal Alchemist: Brotherhood</td>\n",
       "      <td>TV</td>\n",
       "      <td>Bones</td>\n",
       "      <td>Apr 5, 2009 to Jul 4, 2010</td>\n",
       "      <td>Manga</td>\n",
       "      <td>9.171</td>\n",
       "      <td>24 min. per ep.</td>\n",
       "      <td>24</td>\n",
       "      <td>2009</td>\n",
       "      <td>2010</td>\n",
       "    </tr>\n",
       "    <tr>\n",
       "      <th>88</th>\n",
       "      <td>Shingeki no Kyojin</td>\n",
       "      <td>TV</td>\n",
       "      <td>Production I.G, Wit Studio</td>\n",
       "      <td>Apr 7, 2013 to Sep 29, 2013</td>\n",
       "      <td>Manga</td>\n",
       "      <td>8.511</td>\n",
       "      <td>24 min. per ep.</td>\n",
       "      <td>24</td>\n",
       "      <td>2013</td>\n",
       "      <td>2013</td>\n",
       "    </tr>\n",
       "  </tbody>\n",
       "</table>\n",
       "<p>89 rows × 10 columns</p>\n",
       "</div>"
      ],
      "text/plain": [
       "                               Title Type                     Studios  \\\n",
       "0                    Owari no Seraph   TV                  Wit Studio   \n",
       "1                         Lucky Star   TV             Kyoto Animation   \n",
       "2                  Cardcaptor Sakura   TV                    Madhouse   \n",
       "3   Kobayashi-san Chi no Maid Dragon   TV             Kyoto Animation   \n",
       "4                  Nanatsu no Taizai   TV                A-1 Pictures   \n",
       "..                               ...  ...                         ...   \n",
       "84                        Death Note   TV                    Madhouse   \n",
       "85            Hunter x Hunter (2011)   TV                    Madhouse   \n",
       "86                       Steins;Gate   TV                   White Fox   \n",
       "87  Fullmetal Alchemist: Brotherhood   TV                       Bones   \n",
       "88                Shingeki no Kyojin   TV  Production I.G, Wit Studio   \n",
       "\n",
       "                      Premiered        Source MAL Score         Duration  \\\n",
       "0   Apr 4, 2015 to Jun 20, 2015         Manga     7.491  23 min. per ep.   \n",
       "1   Apr 8, 2007 to Sep 17, 2007  4-koma manga     7.751  24 min. per ep.   \n",
       "2   Apr 7, 1998 to Mar 21, 2000         Manga     8.151  25 min. per ep.   \n",
       "3   Jan 12, 2017 to Apr 6, 2017         Manga     7.991  24 min. per ep.   \n",
       "4   Oct 5, 2014 to Mar 29, 2015         Manga     7.801  24 min. per ep.   \n",
       "..                          ...           ...       ...              ...   \n",
       "84  Oct 4, 2006 to Jun 27, 2007         Manga     8.631  23 min. per ep.   \n",
       "85  Oct 2, 2011 to Sep 24, 2014         Manga     9.071  23 min. per ep.   \n",
       "86  Apr 6, 2011 to Sep 14, 2011  Visual novel     9.101  24 min. per ep.   \n",
       "87   Apr 5, 2009 to Jul 4, 2010         Manga     9.171  24 min. per ep.   \n",
       "88  Apr 7, 2013 to Sep 29, 2013         Manga     8.511  24 min. per ep.   \n",
       "\n",
       "   Minutes Year Start Year End  \n",
       "0       23       2015     2015  \n",
       "1       24       2007     2007  \n",
       "2       25       1998     2000  \n",
       "3       24       2017     2017  \n",
       "4       24       2014     2015  \n",
       "..     ...        ...      ...  \n",
       "84      23       2006     2007  \n",
       "85      23       2011     2014  \n",
       "86      24       2011     2011  \n",
       "87      24       2009     2010  \n",
       "88      24       2013     2013  \n",
       "\n",
       "[89 rows x 10 columns]"
      ]
     },
     "metadata": {},
     "output_type": "display_data"
    },
    {
     "data": {
      "text/plain": [
       "Madhouse                               13\n",
       "A-1 Pictures                            7\n",
       "Bones                                   6\n",
       "Kyoto Animation                         6\n",
       "Studio Pierrot                          5\n",
       "Studio Ghibli                           4\n",
       "Toei Animation                          4\n",
       "Brain's Base                            3\n",
       "Sunrise                                 3\n",
       "Wit Studio                              2\n",
       "Studio Deen                             2\n",
       "Shaft                                   2\n",
       "White Fox                               2\n",
       "Production I.G                          2\n",
       "OLM                                     2\n",
       "MAPPA                                   2\n",
       "Mushi Production                        1\n",
       "Lerche                                  1\n",
       "Yokohama Animation Lab                  1\n",
       "CoMix Wave Films                        1\n",
       "David Production                        1\n",
       "CloverWorks                             1\n",
       "Asread                                  1\n",
       "Kinema Citrus                           1\n",
       "ufotable                                1\n",
       "P.A. Works                              1\n",
       "Gallop, Studio Deen                     1\n",
       "Gainax                                  1\n",
       "Gainax, Production I.G                  1\n",
       "Studio Chizu                            1\n",
       "K-Factory, Kitty Film Mitaka Studio     1\n",
       "Artland                                 1\n",
       "Studio VOLN                             1\n",
       "J.C.Staff                               1\n",
       "Tokyo Movie Shinsha                     1\n",
       "Gainax, Tatsunoko Production            1\n",
       "TNK                                     1\n",
       "Trigger                                 1\n",
       "Manglobe                                1\n",
       "Production I.G, Wit Studio              1\n",
       "Name: Studios, dtype: int64"
      ]
     },
     "metadata": {},
     "output_type": "display_data"
    },
    {
     "data": {
      "text/plain": [
       "TV       74\n",
       "Movie    12\n",
       "OVA       2\n",
       "ONA       1\n",
       "Name: Type, dtype: int64"
      ]
     },
     "metadata": {},
     "output_type": "display_data"
    }
   ],
   "source": [
    "## And Insight as well\n",
    "\n",
    "display(dataB, dataB.Studios.value_counts(), dataB.Type.value_counts())\n"
   ]
  },
  {
   "cell_type": "code",
   "execution_count": null,
   "id": "8b2c88fe",
   "metadata": {
    "papermill": {
     "duration": 0.005955,
     "end_time": "2023-04-04T14:50:29.624695",
     "exception": false,
     "start_time": "2023-04-04T14:50:29.618740",
     "status": "completed"
    },
    "tags": []
   },
   "outputs": [],
   "source": []
  },
  {
   "cell_type": "code",
   "execution_count": null,
   "id": "90e1ace4",
   "metadata": {
    "papermill": {
     "duration": 0.005777,
     "end_time": "2023-04-04T14:50:29.636673",
     "exception": false,
     "start_time": "2023-04-04T14:50:29.630896",
     "status": "completed"
    },
    "tags": []
   },
   "outputs": [],
   "source": []
  },
  {
   "cell_type": "code",
   "execution_count": null,
   "id": "5c817883",
   "metadata": {
    "papermill": {
     "duration": 0.00624,
     "end_time": "2023-04-04T14:50:29.649039",
     "exception": false,
     "start_time": "2023-04-04T14:50:29.642799",
     "status": "completed"
    },
    "tags": []
   },
   "outputs": [],
   "source": []
  },
  {
   "cell_type": "code",
   "execution_count": null,
   "id": "8072a2bc",
   "metadata": {
    "papermill": {
     "duration": 0.005871,
     "end_time": "2023-04-04T14:50:29.660969",
     "exception": false,
     "start_time": "2023-04-04T14:50:29.655098",
     "status": "completed"
    },
    "tags": []
   },
   "outputs": [],
   "source": []
  },
  {
   "cell_type": "code",
   "execution_count": null,
   "id": "eb2da1f0",
   "metadata": {
    "papermill": {
     "duration": 0.005729,
     "end_time": "2023-04-04T14:50:29.672770",
     "exception": false,
     "start_time": "2023-04-04T14:50:29.667041",
     "status": "completed"
    },
    "tags": []
   },
   "outputs": [],
   "source": []
  },
  {
   "cell_type": "code",
   "execution_count": null,
   "id": "1667e26b",
   "metadata": {
    "papermill": {
     "duration": 0.005751,
     "end_time": "2023-04-04T14:50:29.684699",
     "exception": false,
     "start_time": "2023-04-04T14:50:29.678948",
     "status": "completed"
    },
    "tags": []
   },
   "outputs": [],
   "source": []
  },
  {
   "cell_type": "code",
   "execution_count": null,
   "id": "6a547c33",
   "metadata": {
    "papermill": {
     "duration": 0.00574,
     "end_time": "2023-04-04T14:50:29.696691",
     "exception": false,
     "start_time": "2023-04-04T14:50:29.690951",
     "status": "completed"
    },
    "tags": []
   },
   "outputs": [],
   "source": []
  },
  {
   "cell_type": "markdown",
   "id": "46671f55",
   "metadata": {
    "papermill": {
     "duration": 0.005693,
     "end_time": "2023-04-04T14:50:29.708448",
     "exception": false,
     "start_time": "2023-04-04T14:50:29.702755",
     "status": "completed"
    },
    "tags": []
   },
   "source": [
    "# Store in Dataframe"
   ]
  },
  {
   "cell_type": "code",
   "execution_count": null,
   "id": "baf0e70e",
   "metadata": {
    "papermill": {
     "duration": 0.005809,
     "end_time": "2023-04-04T14:50:29.720269",
     "exception": false,
     "start_time": "2023-04-04T14:50:29.714460",
     "status": "completed"
    },
    "tags": []
   },
   "outputs": [],
   "source": []
  },
  {
   "cell_type": "markdown",
   "id": "e6b32df7",
   "metadata": {
    "papermill": {
     "duration": 0.005695,
     "end_time": "2023-04-04T14:50:29.732036",
     "exception": false,
     "start_time": "2023-04-04T14:50:29.726341",
     "status": "completed"
    },
    "tags": []
   },
   "source": [
    "# Do the preprocessing by your self"
   ]
  }
 ],
 "metadata": {
  "kernelspec": {
   "display_name": "Python 3",
   "language": "python",
   "name": "python3"
  },
  "language_info": {
   "codemirror_mode": {
    "name": "ipython",
    "version": 3
   },
   "file_extension": ".py",
   "mimetype": "text/x-python",
   "name": "python",
   "nbconvert_exporter": "python",
   "pygments_lexer": "ipython3",
   "version": "3.7.12"
  },
  "papermill": {
   "default_parameters": {},
   "duration": 12.119168,
   "end_time": "2023-04-04T14:50:30.461337",
   "environment_variables": {},
   "exception": null,
   "input_path": "__notebook__.ipynb",
   "output_path": "__notebook__.ipynb",
   "parameters": {},
   "start_time": "2023-04-04T14:50:18.342169",
   "version": "2.3.4"
  }
 },
 "nbformat": 4,
 "nbformat_minor": 5
}
